{
 "cells": [
  {
   "cell_type": "markdown",
   "metadata": {},
   "source": [
    "# CNN"
   ]
  },
  {
   "cell_type": "code",
   "execution_count": 1,
   "metadata": {},
   "outputs": [],
   "source": [
    "import tensorflow as tf\n",
    "from tensorflow.keras import datasets, layers, models\n",
    "import matplotlib.pyplot as plt\n",
    "import numpy as np"
   ]
  },
  {
   "cell_type": "code",
   "execution_count": 4,
   "metadata": {},
   "outputs": [],
   "source": [
    "import requests\n",
    "requests.packages.urllib3.disable_warnings()\n",
    "import ssl\n",
    "\n",
    "try:\n",
    "    _create_unverified_https_context = ssl._create_unverified_context\n",
    "except AttributeError:\n",
    "    # Legacy Python that doesn't verify HTTPS certificates by default\n",
    "    pass\n",
    "else:\n",
    "# Handle target environment that doesn't support HTTPS verification\n",
    "    ssl._create_default_https_context = _create_unverified_https_context"
   ]
  },
  {
   "cell_type": "code",
   "execution_count": 5,
   "metadata": {},
   "outputs": [
    {
     "name": "stdout",
     "output_type": "stream",
     "text": [
      "Downloading data from https://www.cs.toronto.edu/~kriz/cifar-10-python.tar.gz\n",
      "170500096/170498071 [==============================] - 99s 1us/step\n"
     ]
    },
    {
     "data": {
      "text/plain": [
       "(50000, 32, 32, 3)"
      ]
     },
     "execution_count": 5,
     "metadata": {},
     "output_type": "execute_result"
    }
   ],
   "source": [
    "# Load the dataset\n",
    "(x_train,y_train),(x_test,y_test) = datasets.cifar10.load_data()\n",
    "x_train.shape"
   ]
  },
  {
   "cell_type": "code",
   "execution_count": 6,
   "metadata": {},
   "outputs": [
    {
     "data": {
      "text/plain": [
       "(10000, 32, 32, 3)"
      ]
     },
     "execution_count": 6,
     "metadata": {},
     "output_type": "execute_result"
    }
   ],
   "source": [
    "x_test.shape"
   ]
  },
  {
   "cell_type": "code",
   "execution_count": 7,
   "metadata": {},
   "outputs": [
    {
     "data": {
      "text/plain": [
       "(50000, 1)"
      ]
     },
     "execution_count": 7,
     "metadata": {},
     "output_type": "execute_result"
    }
   ],
   "source": [
    "y_train.shape"
   ]
  },
  {
   "cell_type": "code",
   "execution_count": 8,
   "metadata": {},
   "outputs": [
    {
     "data": {
      "text/plain": [
       "array([[6],\n",
       "       [9],\n",
       "       [9],\n",
       "       [4],\n",
       "       [1]], dtype=uint8)"
      ]
     },
     "execution_count": 8,
     "metadata": {},
     "output_type": "execute_result"
    }
   ],
   "source": [
    "y_train[:5]"
   ]
  },
  {
   "cell_type": "code",
   "execution_count": 10,
   "metadata": {},
   "outputs": [
    {
     "data": {
      "text/plain": [
       "array([6, 9, 9, 4, 1, 1, 2, 7, 8, 3], dtype=uint8)"
      ]
     },
     "execution_count": 10,
     "metadata": {},
     "output_type": "execute_result"
    }
   ],
   "source": [
    "y_train= y_train.reshape(-1,)\n",
    "y_train[:10]"
   ]
  },
  {
   "cell_type": "code",
   "execution_count": 24,
   "metadata": {},
   "outputs": [
    {
     "data": {
      "text/plain": [
       "(50000,)"
      ]
     },
     "execution_count": 24,
     "metadata": {},
     "output_type": "execute_result"
    }
   ],
   "source": [
    "y_train.shape"
   ]
  },
  {
   "cell_type": "code",
   "execution_count": 13,
   "metadata": {},
   "outputs": [
    {
     "data": {
      "text/plain": [
       "<matplotlib.image.AxesImage at 0x23aaf60a2b0>"
      ]
     },
     "execution_count": 13,
     "metadata": {},
     "output_type": "execute_result"
    },
    {
     "data": {
      "image/png": "[encoded data removed]",
      "text/plain": [
       "<Figure size 864x144 with 1 Axes>"
      ]
     },
     "metadata": {
      "needs_background": "light"
     },
     "output_type": "display_data"
    }
   ],
   "source": [
    "plt.figure(figsize=(12,2))\n",
    "plt.imshow(x_train[0])"
   ]
  },
  {
   "cell_type": "code",
   "execution_count": 14,
   "metadata": {},
   "outputs": [
    {
     "data": {
      "text/plain": [
       "6"
      ]
     },
     "execution_count": 14,
     "metadata": {},
     "output_type": "execute_result"
    }
   ],
   "source": [
    "y_train[0]"
   ]
  },
  {
   "cell_type": "code",
   "execution_count": 15,
   "metadata": {},
   "outputs": [
    {
     "data": {
      "text/plain": [
       "<matplotlib.image.AxesImage at 0x23abd0a2070>"
      ]
     },
     "execution_count": 15,
     "metadata": {},
     "output_type": "execute_result"
    },
    {
     "data": {
      "image/png": "[encoded data removed]",
      "text/plain": [
       "<Figure size 864x144 with 1 Axes>"
      ]
     },
     "metadata": {
      "needs_background": "light"
     },
     "output_type": "display_data"
    }
   ],
   "source": [
    "plt.figure(figsize=(12,2))\n",
    "plt.imshow(x_train[1])"
   ]
  },
  {
   "cell_type": "code",
   "execution_count": 16,
   "metadata": {},
   "outputs": [
    {
     "data": {
      "text/plain": [
       "9"
      ]
     },
     "execution_count": 16,
     "metadata": {},
     "output_type": "execute_result"
    }
   ],
   "source": [
    "y_train[1]"
   ]
  },
  {
   "cell_type": "code",
   "execution_count": 17,
   "metadata": {},
   "outputs": [
    {
     "data": {
      "text/plain": [
       "array([[[ 59,  62,  63],\n",
       "        [ 43,  46,  45],\n",
       "        [ 50,  48,  43],\n",
       "        ...,\n",
       "        [158, 132, 108],\n",
       "        [152, 125, 102],\n",
       "        [148, 124, 103]],\n",
       "\n",
       "       [[ 16,  20,  20],\n",
       "        [  0,   0,   0],\n",
       "        [ 18,   8,   0],\n",
       "        ...,\n",
       "        [123,  88,  55],\n",
       "        [119,  83,  50],\n",
       "        [122,  87,  57]],\n",
       "\n",
       "       [[ 25,  24,  21],\n",
       "        [ 16,   7,   0],\n",
       "        [ 49,  27,   8],\n",
       "        ...,\n",
       "        [118,  84,  50],\n",
       "        [120,  84,  50],\n",
       "        [109,  73,  42]],\n",
       "\n",
       "       ...,\n",
       "\n",
       "       [[208, 170,  96],\n",
       "        [201, 153,  34],\n",
       "        [198, 161,  26],\n",
       "        ...,\n",
       "        [160, 133,  70],\n",
       "        [ 56,  31,   7],\n",
       "        [ 53,  34,  20]],\n",
       "\n",
       "       [[180, 139,  96],\n",
       "        [173, 123,  42],\n",
       "        [186, 144,  30],\n",
       "        ...,\n",
       "        [184, 148,  94],\n",
       "        [ 97,  62,  34],\n",
       "        [ 83,  53,  34]],\n",
       "\n",
       "       [[177, 144, 116],\n",
       "        [168, 129,  94],\n",
       "        [179, 142,  87],\n",
       "        ...,\n",
       "        [216, 184, 140],\n",
       "        [151, 118,  84],\n",
       "        [123,  92,  72]]], dtype=uint8)"
      ]
     },
     "execution_count": 17,
     "metadata": {},
     "output_type": "execute_result"
    }
   ],
   "source": [
    "x_train[0]"
   ]
  },
  {
   "cell_type": "code",
   "execution_count": 18,
   "metadata": {},
   "outputs": [],
   "source": [
    "#Normalize the training data\n",
    "x_train = x_train/255\n",
    "x_test= x_test/255"
   ]
  },
  {
   "cell_type": "code",
   "execution_count": null,
   "metadata": {},
   "outputs": [],
   "source": [
    "# Build a simple neural network for image classification"
   ]
  },
  {
   "cell_type": "code",
   "execution_count": 23,
   "metadata": {},
   "outputs": [
    {
     "name": "stdout",
     "output_type": "stream",
     "text": [
      "Epoch 1/10\n",
      "1563/1563 [==============================] - 132s 81ms/step - loss: 2.2102 - accuracy: 0.2716\n",
      "Epoch 2/10\n",
      "1563/1563 [==============================] - 104s 66ms/step - loss: 1.6816 - accuracy: 0.3961\n",
      "Epoch 3/10\n",
      "1563/1563 [==============================] - 100s 64ms/step - loss: 1.5881 - accuracy: 0.4294\n",
      "Epoch 4/10\n",
      "1563/1563 [==============================] - 102s 65ms/step - loss: 1.5337 - accuracy: 0.4500\n",
      "Epoch 5/10\n",
      "1563/1563 [==============================] - 104s 67ms/step - loss: 1.4919 - accuracy: 0.4659\n",
      "Epoch 6/10\n",
      "1563/1563 [==============================] - 114s 73ms/step - loss: 1.4477 - accuracy: 0.4818\n",
      "Epoch 7/10\n",
      "1563/1563 [==============================] - 116s 75ms/step - loss: 1.4323 - accuracy: 0.4871\n",
      "Epoch 8/10\n",
      "1563/1563 [==============================] - 113s 72ms/step - loss: 1.4025 - accuracy: 0.4989\n",
      "Epoch 9/10\n",
      "1563/1563 [==============================] - 113s 72ms/step - loss: 1.3615 - accuracy: 0.5092\n",
      "Epoch 10/10\n",
      "1563/1563 [==============================] - 114s 73ms/step - loss: 1.3466 - accuracy: 0.5211\n"
     ]
    },
    {
     "data": {
      "text/plain": [
       "<tensorflow.python.keras.callbacks.History at 0x23abc5abc40>"
      ]
     },
     "execution_count": 23,
     "metadata": {},
     "output_type": "execute_result"
    }
   ],
   "source": [
    "ann = models.Sequential([\n",
    "    layers.Flatten(input_shape=(32,32,3)),\n",
    "    layers.Dense(3000,activation='relu'),\n",
    "    layers.Dense(1000,activation='relu'),\n",
    "    layers.Dense(10,activation='sigmoid'),\n",
    "])\n",
    "\n",
    "ann.compile(optimizer='adam',loss='sparse_categorical_crossentropy',metrics=['accuracy'])\n",
    "\n",
    "ann.fit(x_train,y_train,epochs=10)"
   ]
  },
  {
   "cell_type": "code",
   "execution_count": 26,
   "metadata": {},
   "outputs": [],
   "source": [
    "#Build CNN to train our images\n",
    "\n",
    "cnn=models.Sequential([\n",
    "    layers.Conv2D(filters=64,kernel_size=(3,3),activation='relu',input_shape=(32,32,3)),\n",
    "    layers.MaxPooling2D((2,2)),\n",
    "     layers.Conv2D(filters=32,kernel_size=(3,3),activation='relu'),\n",
    "    layers.MaxPooling2D((2,2)),\n",
    "    \n",
    "    \n",
    "    \n",
    "    \n",
    "    layers.Flatten(),\n",
    "    layers.Dense(64,activation='relu'),\n",
    "    layers.Dense(32,activation='relu'),\n",
    "    layers.Dense(10,activation='softmax'),\n",
    "])\n"
   ]
  },
  {
   "cell_type": "code",
   "execution_count": 29,
   "metadata": {},
   "outputs": [],
   "source": [
    "cnn.compile(optimizer='adam',loss='sparse_categorical_crossentropy',metrics=['accuracy'])"
   ]
  },
  {
   "cell_type": "code",
   "execution_count": 30,
   "metadata": {},
   "outputs": [
    {
     "name": "stdout",
     "output_type": "stream",
     "text": [
      "Epoch 1/20\n",
      "1563/1563 [==============================] - 75s 43ms/step - loss: 1.8203 - accuracy: 0.3237\n",
      "Epoch 2/20\n",
      "1563/1563 [==============================] - 56s 36ms/step - loss: 1.2622 - accuracy: 0.5488\n",
      "Epoch 3/20\n",
      "1563/1563 [==============================] - 61s 39ms/step - loss: 1.1098 - accuracy: 0.6073\n",
      "Epoch 4/20\n",
      "1563/1563 [==============================] - 73s 47ms/step - loss: 1.0449 - accuracy: 0.6362\n",
      "Epoch 5/20\n",
      "1563/1563 [==============================] - 72s 46ms/step - loss: 0.9779 - accuracy: 0.6577\n",
      "Epoch 6/20\n",
      "1563/1563 [==============================] - 56s 36ms/step - loss: 0.9390 - accuracy: 0.6707\n",
      "Epoch 7/20\n",
      "1563/1563 [==============================] - 57s 37ms/step - loss: 0.8949 - accuracy: 0.6861\n",
      "Epoch 8/20\n",
      "1563/1563 [==============================] - 56s 36ms/step - loss: 0.8724 - accuracy: 0.6930\n",
      "Epoch 9/20\n",
      "1563/1563 [==============================] - 56s 36ms/step - loss: 0.8431 - accuracy: 0.7048\n",
      "Epoch 10/20\n",
      "1563/1563 [==============================] - 60s 38ms/step - loss: 0.8315 - accuracy: 0.7086\n",
      "Epoch 11/20\n",
      "1563/1563 [==============================] - 60s 39ms/step - loss: 0.7935 - accuracy: 0.7233\n",
      "Epoch 12/20\n",
      "1563/1563 [==============================] - 54s 35ms/step - loss: 0.7642 - accuracy: 0.7354\n",
      "Epoch 13/20\n",
      "1563/1563 [==============================] - 57s 36ms/step - loss: 0.7513 - accuracy: 0.7365\n",
      "Epoch 14/20\n",
      "1563/1563 [==============================] - 60s 38ms/step - loss: 0.7202 - accuracy: 0.74541s\n",
      "Epoch 15/20\n",
      "1563/1563 [==============================] - 56s 36ms/step - loss: 0.7075 - accuracy: 0.7514\n",
      "Epoch 16/20\n",
      "1563/1563 [==============================] - 56s 36ms/step - loss: 0.6824 - accuracy: 0.7571\n",
      "Epoch 17/20\n",
      "1563/1563 [==============================] - 56s 36ms/step - loss: 0.6719 - accuracy: 0.7660\n",
      "Epoch 18/20\n",
      "1563/1563 [==============================] - 57s 36ms/step - loss: 0.6598 - accuracy: 0.7687\n",
      "Epoch 19/20\n",
      "1563/1563 [==============================] - 57s 36ms/step - loss: 0.6429 - accuracy: 0.7700\n",
      "Epoch 20/20\n",
      "1563/1563 [==============================] - 59s 37ms/step - loss: 0.6228 - accuracy: 0.7782\n"
     ]
    },
    {
     "data": {
      "text/plain": [
       "<tensorflow.python.keras.callbacks.History at 0x23abc98de20>"
      ]
     },
     "execution_count": 30,
     "metadata": {},
     "output_type": "execute_result"
    }
   ],
   "source": [
    "cnn.fit(x_train,y_train,epochs=20)"
   ]
  },
  {
   "cell_type": "code",
   "execution_count": 38,
   "metadata": {},
   "outputs": [],
   "source": [
    "#Build CNN to train our images\n",
    "\n",
    "cnn=models.Sequential([\n",
    "    layers.Conv2D(filters=64,kernel_size=(3,3),padding='same',strides=(1,1),activation='relu',input_shape=(32,32,3)),\n",
    "    layers.MaxPooling2D((2,2)),\n",
    "      layers.Dropout((0.25)),\n",
    "     layers.Conv2D(filters=32,kernel_size=(3,3),padding='same',strides=(1,1),activation='relu'),\n",
    "    layers.MaxPooling2D((2,2)),\n",
    "    \n",
    "    layers.Dropout((0.25)),\n",
    "\n",
    "    layers.Flatten(),\n",
    "    layers.Dense(64,activation='relu'),\n",
    "    layers.Dense(32,activation='relu'),\n",
    "    layers.Dense(10,activation='softmax'),\n",
    "])\n"
   ]
  },
  {
   "cell_type": "code",
   "execution_count": null,
   "metadata": {},
   "outputs": [],
   "source": []
  },
  {
   "cell_type": "code",
   "execution_count": null,
   "metadata": {},
   "outputs": [],
   "source": []
  },
  {
   "cell_type": "code",
   "execution_count": null,
   "metadata": {},
   "outputs": [],
   "source": []
  },
  {
   "cell_type": "code",
   "execution_count": null,
   "metadata": {},
   "outputs": [],
   "source": []
  },
  {
   "cell_type": "code",
   "execution_count": null,
   "metadata": {},
   "outputs": [],
   "source": []
  },
  {
   "cell_type": "code",
   "execution_count": 39,
   "metadata": {},
   "outputs": [],
   "source": [
    "cnn.compile(optimizer='adam',loss='sparse_categorical_crossentropy',metrics=['accuracy'])"
   ]
  },
  {
   "cell_type": "code",
   "execution_count": 40,
   "metadata": {},
   "outputs": [
    {
     "name": "stdout",
     "output_type": "stream",
     "text": [
      "Epoch 1/15\n",
      "1563/1563 [==============================] - 90s 55ms/step - loss: 1.7985 - accuracy: 0.33860s -\n",
      "Epoch 2/15\n",
      "1563/1563 [==============================] - 78s 50ms/step - loss: 1.2770 - accuracy: 0.5419\n",
      "Epoch 3/15\n",
      "1563/1563 [==============================] - 79s 50ms/step - loss: 1.1246 - accuracy: 0.59890s - loss: 1.1246 - accuracy: 0.\n",
      "Epoch 4/15\n",
      "1563/1563 [==============================] - 84s 54ms/step - loss: 1.0217 - accuracy: 0.6368\n",
      "Epoch 5/15\n",
      "1563/1563 [==============================] - 83s 53ms/step - loss: 0.9670 - accuracy: 0.6569\n",
      "Epoch 6/15\n",
      "1563/1563 [==============================] - 87s 56ms/step - loss: 0.9372 - accuracy: 0.6686\n",
      "Epoch 7/15\n",
      "1563/1563 [==============================] - 83s 53ms/step - loss: 0.8784 - accuracy: 0.6878\n",
      "Epoch 8/15\n",
      "1563/1563 [==============================] - 80s 51ms/step - loss: 0.8642 - accuracy: 0.6963\n",
      "Epoch 9/15\n",
      "1563/1563 [==============================] - 86s 55ms/step - loss: 0.8354 - accuracy: 0.7042\n",
      "Epoch 10/15\n",
      "1563/1563 [==============================] - 83s 53ms/step - loss: 0.8103 - accuracy: 0.7135\n",
      "Epoch 11/15\n",
      "1563/1563 [==============================] - 83s 53ms/step - loss: 0.7884 - accuracy: 0.7203\n",
      "Epoch 12/15\n",
      "1563/1563 [==============================] - 78s 50ms/step - loss: 0.7695 - accuracy: 0.7296\n",
      "Epoch 13/15\n",
      "1563/1563 [==============================] - 90s 57ms/step - loss: 0.7531 - accuracy: 0.7347\n",
      "Epoch 14/15\n",
      "1563/1563 [==============================] - 93s 59ms/step - loss: 0.7480 - accuracy: 0.7320\n",
      "Epoch 15/15\n",
      "1563/1563 [==============================] - 82s 53ms/step - loss: 0.7247 - accuracy: 0.7445\n"
     ]
    },
    {
     "data": {
      "text/plain": [
       "<tensorflow.python.keras.callbacks.History at 0x23b169ee5e0>"
      ]
     },
     "execution_count": 40,
     "metadata": {},
     "output_type": "execute_result"
    }
   ],
   "source": [
    "cnn.fit(x_train,y_train,epochs=15)"
   ]
  },
  {
   "cell_type": "code",
   "execution_count": 41,
   "metadata": {},
   "outputs": [
    {
     "data": {
      "text/plain": [
       "array([3, 8, 8, 0, 6], dtype=uint8)"
      ]
     },
     "execution_count": 41,
     "metadata": {},
     "output_type": "execute_result"
    }
   ],
   "source": [
    "y_test[:5]"
   ]
  },
  {
   "cell_type": "code",
   "execution_count": 42,
   "metadata": {},
   "outputs": [],
   "source": [
    "y_test = y_test.reshape(-1,)"
   ]
  },
  {
   "cell_type": "code",
   "execution_count": 43,
   "metadata": {},
   "outputs": [
    {
     "data": {
      "text/plain": [
       "array([3, 8, 8, 0, 6], dtype=uint8)"
      ]
     },
     "execution_count": 43,
     "metadata": {},
     "output_type": "execute_result"
    }
   ],
   "source": [
    "y_test[:5]"
   ]
  },
  {
   "cell_type": "code",
   "execution_count": 44,
   "metadata": {},
   "outputs": [
    {
     "name": "stdout",
     "output_type": "stream",
     "text": [
      "313/313 [==============================] - 7s 11ms/step - loss: 0.8218 - accuracy: 0.7119\n"
     ]
    },
    {
     "data": {
      "text/plain": [
       "[0.82175612449646, 0.711899995803833]"
      ]
     },
     "execution_count": 44,
     "metadata": {},
     "output_type": "execute_result"
    }
   ],
   "source": [
    "cnn.evaluate(x_test,y_test)"
   ]
  },
  {
   "cell_type": "code",
   "execution_count": 45,
   "metadata": {},
   "outputs": [],
   "source": [
    "y_pred = cnn.predict(x_test)"
   ]
  },
  {
   "cell_type": "code",
   "execution_count": 46,
   "metadata": {},
   "outputs": [
    {
     "data": {
      "text/plain": [
       "array([[8.32903199e-03, 1.38874922e-03, 1.37926517e-02, 2.77176708e-01,\n",
       "        1.03830500e-03, 6.25203669e-01, 2.90726721e-02, 6.08840433e-04,\n",
       "        4.07108963e-02, 2.67843553e-03],\n",
       "       [3.42022366e-04, 4.33329761e-01, 1.33233762e-05, 1.73850708e-06,\n",
       "        1.39874921e-08, 1.54856153e-07, 1.79717517e-07, 4.09781293e-08,\n",
       "        5.65618277e-01, 6.94575720e-04],\n",
       "       [2.27757171e-01, 1.24465965e-01, 1.96498074e-02, 1.16496943e-02,\n",
       "        2.95459549e-03, 2.46740016e-03, 2.19110772e-03, 1.01223227e-03,\n",
       "        5.57495534e-01, 5.03565073e-02],\n",
       "       [8.35672021e-01, 3.95739125e-03, 3.87863219e-02, 7.34413974e-04,\n",
       "        3.04828817e-03, 2.38706867e-04, 1.78796751e-03, 5.39942819e-04,\n",
       "        1.12929367e-01, 2.30558240e-03],\n",
       "       [5.56678351e-05, 5.57076637e-05, 1.66523941e-02, 1.68221463e-02,\n",
       "        1.06349764e-02, 1.49884692e-03, 9.54195023e-01, 1.14900622e-05,\n",
       "        6.47859779e-05, 8.88302475e-06]], dtype=float32)"
      ]
     },
     "execution_count": 46,
     "metadata": {},
     "output_type": "execute_result"
    }
   ],
   "source": [
    "y_pred[:5]"
   ]
  },
  {
   "cell_type": "code",
   "execution_count": 47,
   "metadata": {},
   "outputs": [],
   "source": [
    "y_label=[np.argmax(i) for i in y_pred]"
   ]
  },
  {
   "cell_type": "code",
   "execution_count": 48,
   "metadata": {},
   "outputs": [
    {
     "data": {
      "text/plain": [
       "[5, 8, 8, 0, 6]"
      ]
     },
     "execution_count": 48,
     "metadata": {},
     "output_type": "execute_result"
    }
   ],
   "source": [
    "y_label[:5]"
   ]
  },
  {
   "cell_type": "code",
   "execution_count": 49,
   "metadata": {},
   "outputs": [
    {
     "data": {
      "text/plain": [
       "array([3, 8, 8, 0, 6], dtype=uint8)"
      ]
     },
     "execution_count": 49,
     "metadata": {},
     "output_type": "execute_result"
    }
   ],
   "source": [
    "y_test[:5]"
   ]
  },
  {
   "cell_type": "code",
   "execution_count": 52,
   "metadata": {},
   "outputs": [
    {
     "name": "stdout",
     "output_type": "stream",
     "text": [
      "              precision    recall  f1-score   support\n",
      "\n",
      "           0       0.78      0.70      0.74      1000\n",
      "           1       0.86      0.85      0.86      1000\n",
      "           2       0.58      0.59      0.59      1000\n",
      "           3       0.56      0.42      0.48      1000\n",
      "           4       0.62      0.66      0.64      1000\n",
      "           5       0.56      0.68      0.62      1000\n",
      "           6       0.71      0.84      0.77      1000\n",
      "           7       0.83      0.72      0.77      1000\n",
      "           8       0.83      0.83      0.83      1000\n",
      "           9       0.81      0.83      0.82      1000\n",
      "\n",
      "    accuracy                           0.71     10000\n",
      "   macro avg       0.71      0.71      0.71     10000\n",
      "weighted avg       0.71      0.71      0.71     10000\n",
      "\n"
     ]
    }
   ],
   "source": [
    "from sklearn.metrics import confusion_matrix, classification_report\n",
    "print(classification_report(y_test,y_label))"
   ]
  },
  {
   "cell_type": "code",
   "execution_count": null,
   "metadata": {},
   "outputs": [],
   "source": []
  },
  {
   "cell_type": "code",
   "execution_count": null,
   "metadata": {},
   "outputs": [],
   "source": [
    "#### dropout layer == it randomly drops some neurons------- used to avoid overfitting\n",
    "\n",
    "### Imagedatagenerator from keras--- rotate, rescale, zoom in \n",
    "\n",
    "#### callbacks and learning rate------- earlystopping"
   ]
  }
 ],
 "metadata": {
  "kernelspec": {
   "display_name": "Python 3",
   "language": "python",
   "name": "python3"
  },
  "language_info": {
   "codemirror_mode": {
    "name": "ipython",
    "version": 3
   },
   "file_extension": ".py",
   "mimetype": "text/x-python",
   "name": "python",
   "nbconvert_exporter": "python",
   "pygments_lexer": "ipython3",
   "version": "3.8.5"
  }
 },
 "nbformat": 4,
 "nbformat_minor": 4
}
